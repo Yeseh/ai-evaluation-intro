{
 "cells": [
  {
   "cell_type": "code",
   "execution_count": 1,
   "id": "6344cc7b",
   "metadata": {},
   "outputs": [],
   "source": [
    "# Client configuration for Azure OpenAI and Foundry\n",
    "import asyncio\n",
    "\n",
    "from agent_framework.azure import AzureAIAgentClient, AzureOpenAIChatClient\n",
    "from agent_framework.observability import setup_observability \n",
    "from azure.identity import DefaultAzureCredential\n",
    "from azure.identity.aio import DefaultAzureCredential as AsyncDefaultAzureCredential\n",
    "from dotenv import load_dotenv\n",
    "import config\n",
    "\n",
    "load_dotenv()\n",
    "setup_observability()\n",
    "\n",
    "credential = DefaultAzureCredential()\n",
    "async_credential = AsyncDefaultAzureCredential()    \n",
    "agent_client = AzureAIAgentClient(\n",
    "    project_endpoint=config.foundry_project_endpoint,\n",
    "    model_deployment_name=\"gpt-4.1\",\n",
    "    async_credential=async_credential,\n",
    ")\n"
   ]
  },
  {
   "cell_type": "code",
   "execution_count": 2,
   "id": "d27c15a2",
   "metadata": {},
   "outputs": [],
   "source": [
    "# Initialize the agent\n",
    "from pydantic import Field\n",
    "from typing import List, Annotated\n",
    "from search_knowledge_base import KnowledgeBaseSearcher\n",
    "from agent_framework import ContextProvider\n",
    "\n",
    "def search_knowledge_base(\n",
    "        query: Annotated[str, Field(description=\"The search query string.\")]\n",
    "    ) -> List[str]:\n",
    "    \"\"\"Search the knowledge base for relevant information.\"\"\"\n",
    "\n",
    "    searcher = KnowledgeBaseSearcher()\n",
    "    results = searcher.semantic_search(query)\n",
    "\n",
    "    return [res[\"chunk\"] for res in results] \n",
    "\n",
    "\n",
    "agent_instructions = \"\"\"\n",
    "You are a helpful AI assistant. You have access to a knowledge base about Meridian Strategic Consulting. \n",
    "Use the `search_knowledge_base` function to find relevant information from the knowledge base to answer user queries.\n",
    "Include the result of the search as context in your response.\n",
    "\"\"\"\n",
    "\n",
    "agent = agent_client.create_agent(\n",
    "    name=\"MeridianConsultingAgent\",\n",
    "    instructions=agent_instructions,\n",
    "    tools=[search_knowledge_base]) \n"
   ]
  },
  {
   "cell_type": "code",
   "execution_count": 3,
   "id": "f6ec9d33",
   "metadata": {},
   "outputs": [
    {
     "name": "stdout",
     "output_type": "stream",
     "text": [
      "Based on the information retrieved from Meridian Strategic Consulting’s knowledge base, the best consultant match for a 6-month project requiring both AI/ML expertise and healthcare industry experience would be Dr. Amanda Foster.\n",
      "\n",
      "Here’s why:\n",
      "- Dr. Amanda Foster is a Senior Partner and the Healthcare Practice Lead at Meridian.\n",
      "- She has 14 years of total experience (4 years at Meridian).\n",
      "- Her expertise areas include artificial intelligence, machine learning, healthcare analytics, cloud architecture, and data strategy.\n",
      "- She has led healthcare projects such as predictive analytics for patient outcomes and is highly regarded in both the AI/ML and healthcare domains.\n",
      "- Dr. Foster’s recent achievements include AI implementations for healthcare and other industries that have generated significant value.\n",
      "- She is recognized as an expert (10+ years) in both AI/ML and the healthcare sector.\n",
      "- Contact: amanda.foster@meridianstrategic.com\n",
      "\n",
      "Note: Dr. Foster will be available for new engagements starting February 2025. If your 6-month project can align with that timeframe, she would be the most qualified match. If you need someone to start immediately or require alternative options, Kevin Liu (Principal, Cloud & Infrastructure) and Sarah Chen (Founder, high priority projects) also have advanced AI/ML and healthcare experience.\n",
      "\n",
      "Context from search:\n",
      "- Dr. Amanda Foster is listed as an expert in both AI/ML and healthcare, is the practice lead, and has directly led relevant healthcare analytics projects.\n",
      "- Sarah Chen has expertise in technology and healthcare, but is focused on high-priority clients and strategic initiatives.\n",
      "- Kevin Liu has advanced AI/ML and healthcare experience but is less senior than Dr. Foster.\n",
      "\n",
      "If you need more consultant profiles or want backup options, please specify your preferred starting timeframe or project focus.\n"
     ]
    }
   ],
   "source": [
    "thread = agent.get_new_thread()\n",
    "\n",
    "query = \"I need a consultant with AI/ML expertise and healthcare industry experience for a 6-month project. Who would be the best match?\" \n",
    "response = await agent.run(query, thread=thread)\n",
    "\n",
    "print(response)"
   ]
  },
  {
   "cell_type": "code",
   "execution_count": 4,
   "id": "49c29b18",
   "metadata": {},
   "outputs": [],
   "source": [
    "# Configure Evaluator model\n",
    "from azure.ai.evaluation import  AzureOpenAIModelConfiguration\n",
    "evaluator_model = AzureOpenAIModelConfiguration({\n",
    "    \"type\":\"azure_openai\",\n",
    "    \"azure_deployment\": \"gpt-4.1\",\n",
    "    \"azure_endpoint\": config.azure_openai_endpoint,\n",
    "    \"api_key\": config.credential.get_token(\"https://cognitiveservices.azure.com/.default\").token\n",
    "})"
   ]
  },
  {
   "cell_type": "code",
   "execution_count": 5,
   "id": "1d6cccf9",
   "metadata": {},
   "outputs": [
    {
     "name": "stderr",
     "output_type": "stream",
     "text": [
      "[2025-10-05 19:54:29 - f:\\repo\\evaluation-intro\\.venv\\Lib\\site-packages\\azure\\ai\\evaluation\\_common\\_experimental.py:79 - WARNING] Class IntentResolutionEvaluator: This is an experimental class, and may change at any time. Please see https://aka.ms/azuremlexperimental for more information.\n",
      "[2025-10-05 19:54:29 - f:\\repo\\evaluation-intro\\.venv\\Lib\\site-packages\\azure\\ai\\evaluation\\_common\\utils.py:575 - WARNING] Conversation history could not be parsed, falling back to original query: I need a consultant with AI/ML expertise and healthcare industry experience for a 6-month project. Who would be the best match?\n",
      "[2025-10-05 19:54:29 - f:\\repo\\evaluation-intro\\.venv\\Lib\\site-packages\\azure\\ai\\evaluation\\_common\\utils.py:629 - WARNING] Empty agent response extracted, likely due to input schema change. Falling back to using the original response: Based on the information retrieved from Meridian Strategic Consulting’s knowledge base, the best consultant match for a 6-month project requiring both AI/ML expertise and healthcare industry experience would be Dr. Amanda Foster.\n",
      "\n",
      "Here’s why:\n",
      "- Dr. Amanda Foster is a Senior Partner and the Healthcare Practice Lead at Meridian.\n",
      "- She has 14 years of total experience (4 years at Meridian).\n",
      "- Her expertise areas include artificial intelligence, machine learning, healthcare analytics, cloud architecture, and data strategy.\n",
      "- She has led healthcare projects such as predictive analytics for patient outcomes and is highly regarded in both the AI/ML and healthcare domains.\n",
      "- Dr. Foster’s recent achievements include AI implementations for healthcare and other industries that have generated significant value.\n",
      "- She is recognized as an expert (10+ years) in both AI/ML and the healthcare sector.\n",
      "- Contact: amanda.foster@meridianstrategic.com\n",
      "\n",
      "Note: Dr. Foster will be available for new engagements starting February 2025. If your 6-month project can align with that timeframe, she would be the most qualified match. If you need someone to start immediately or require alternative options, Kevin Liu (Principal, Cloud & Infrastructure) and Sarah Chen (Founder, high priority projects) also have advanced AI/ML and healthcare experience.\n",
      "\n",
      "Context from search:\n",
      "- Dr. Amanda Foster is listed as an expert in both AI/ML and healthcare, is the practice lead, and has directly led relevant healthcare analytics projects.\n",
      "- Sarah Chen has expertise in technology and healthcare, but is focused on high-priority clients and strategic initiatives.\n",
      "- Kevin Liu has advanced AI/ML and healthcare experience but is less senior than Dr. Foster.\n",
      "\n",
      "If you need more consultant profiles or want backup options, please specify your preferred starting timeframe or project focus.\n"
     ]
    },
    {
     "data": {
      "text/plain": [
       "{'intent_resolution': 5.0,\n",
       " 'intent_resolution_result': 'pass',\n",
       " 'intent_resolution_threshold': 3,\n",
       " 'intent_resolution_reason': 'The user requested the best consultant with AI/ML and healthcare expertise for a 6-month project. The agent identified Dr. Amanda Foster as the top match, provided detailed qualifications, and offered alternatives if timing is an issue, fully resolving the intent with thoroughness and clarity.'}"
      ]
     },
     "execution_count": 5,
     "metadata": {},
     "output_type": "execute_result"
    }
   ],
   "source": [
    "# Showcase Intent Resolution Evaluator\n",
    "from azure.ai.evaluation import IntentResolutionEvaluator\n",
    "\n",
    "intres_evaluator = IntentResolutionEvaluator(\n",
    "    model_config=evaluator_model,\n",
    "    credential=credential)\n",
    "\n",
    "intres_evaluator(query=query, response=response.text)"
   ]
  },
  {
   "cell_type": "code",
   "execution_count": 6,
   "id": "4312a496",
   "metadata": {},
   "outputs": [
    {
     "data": {
      "text/plain": [
       "{'groundedness': 5.0,\n",
       " 'gpt_groundedness': 5.0,\n",
       " 'groundedness_reason': 'The RESPONSE is fully correct, complete, and directly addresses the QUERY using all relevant details from the CONTEXT, with no unrelated or incorrect information.',\n",
       " 'groundedness_result': 'pass',\n",
       " 'groundedness_threshold': 3}"
      ]
     },
     "execution_count": 6,
     "metadata": {},
     "output_type": "execute_result"
    }
   ],
   "source": [
    "# Showcase Groundedness Evaluator\n",
    "from azure.ai.evaluation import GroundednessEvaluator\n",
    "\n",
    "groundedness_evaluator = GroundednessEvaluator(model_config=evaluator_model, credential=credential)\n",
    "groundedness_evaluator(\n",
    "    query=query, \n",
    "    response=response.text,\n",
    "    context=\"Dr. Amanda foster is a data scientist with 10 years of experience in the healthcare industry. She has worked on multiple AI/ML projects and has expertise in machine learning, data analysis, and statistical modeling.\"\n",
    ")"
   ]
  },
  {
   "cell_type": "code",
   "execution_count": 7,
   "id": "008f723f",
   "metadata": {},
   "outputs": [
    {
     "data": {
      "text/plain": [
       "{'ndcg@3': 1.0,\n",
       " 'xdcg@3': 120.40816326530613,\n",
       " 'fidelity': 1.0,\n",
       " 'top1_relevance': 5,\n",
       " 'top3_max_relevance': 5,\n",
       " 'holes': 1,\n",
       " 'holes_ratio': 0.16666666666666666,\n",
       " 'total_retrieved_documents': 6,\n",
       " 'total_ground_truth_documents': 6,\n",
       " 'ndcg@3_result': 'pass',\n",
       " 'ndcg@3_threshold': 0.5,\n",
       " 'ndcg@3_higher_is_better': True,\n",
       " 'xdcg@3_result': 'pass',\n",
       " 'xdcg@3_threshold': 50.0,\n",
       " 'xdcg@3_higher_is_better': True,\n",
       " 'fidelity_result': 'pass',\n",
       " 'fidelity_threshold': 0.5,\n",
       " 'fidelity_higher_is_better': True,\n",
       " 'top1_relevance_result': 'fail',\n",
       " 'top1_relevance_threshold': 50.0,\n",
       " 'top1_relevance_higher_is_better': True,\n",
       " 'top3_max_relevance_result': 'fail',\n",
       " 'top3_max_relevance_threshold': 50.0,\n",
       " 'top3_max_relevance_higher_is_better': True,\n",
       " 'holes_result': 'fail',\n",
       " 'holes_threshold': 0,\n",
       " 'holes_higher_is_better': False,\n",
       " 'holes_ratio_result': 'fail',\n",
       " 'holes_ratio_threshold': 0,\n",
       " 'holes_ratio_higher_is_better': False,\n",
       " 'total_retrieved_documents_result': 'fail',\n",
       " 'total_retrieved_documents_threshold': 50,\n",
       " 'total_retrieved_documents_higher_is_better': True,\n",
       " 'total_ground_truth_documents_result': 'fail',\n",
       " 'total_ground_truth_documents_threshold': 50,\n",
       " 'total_ground_truth_documents_higher_is_better': True}"
      ]
     },
     "execution_count": 7,
     "metadata": {},
     "output_type": "execute_result"
    }
   ],
   "source": [
    "# Testing Document Retrieval \n",
    "from azure.ai.evaluation import DocumentRetrievalEvaluator, AIAgentConverter\n",
    "\n",
    "# Represents the ideal documents that should be retrieved for the given query, with relevance labels from 0 (not relevant) to 5 (highly relevant)\n",
    "retrieval_ground_truth = [\n",
    "    {\n",
    "        \"document_id\": \"people-expertise/expert-profiles.md\",\n",
    "        \"query_relevance_label\": 5,  \n",
    "    },\n",
    "    {\n",
    "        \"document_id\": \"people-expertise/skills-matrix.md\",\n",
    "        \"query_relevance_label\": 5,  \n",
    "    },\n",
    "    {\n",
    "        \"document_id\": \"core-business/industry-expertise.md\", \n",
    "        \"query_relevance_label\": 4\n",
    "    },\n",
    "    {\n",
    "        \"document_id\": \"core-business/service-offerings.md\",\n",
    "        \"query_relevance_label\": 3 \n",
    "    },\n",
    "    {\n",
    "        \"document_id\": \"market-intelligence/industry-trends-q4-2024.md\",\n",
    "        \"query_relevance_label\": 1\n",
    "    },\n",
    "    {\n",
    "        \"document_id\": \"sales-proposals/proposal-templates.md\",\n",
    "        \"query_relevance_label\": 0\n",
    "   }\n",
    "]\n",
    "\n",
    "# Represents what was actually retrieved from the search index by the Agent\n",
    "retrieved_documents = [\n",
    "    {\n",
    "        \"document_id\": \"people-expertise/skills-matrix.md\",\n",
    "        \"relevance_score\": 2.395587682723999\n",
    "    },\n",
    "    {\n",
    "        \"document_id\": \"people-expertise/expert-profiles.md\",\n",
    "        \"relevance_score\": 2.332935094833374\n",
    "    },\n",
    "    {\n",
    "        \"document_id\": \"core-business/industry-expertise.md\",\n",
    "        \"relevance_score\": 2.2740046977996826\n",
    "    },\n",
    "    {\n",
    "        \"document_id\": \"core-business/service-offerings.md\",\n",
    "        \"relevance_score\": 2.2369625568389893\n",
    "    },\n",
    "    {\n",
    "        \"document_id\": \"market-intelligence/industry-trends-q4-2024.md\",\n",
    "        \"relevance_score\": 2.2054591178894043\n",
    "    },\n",
    "    {\n",
    "        \"document_id\": \"market-intelligence/competitive-analysis.md\",\n",
    "        \"relevance_score\": 2.0840091705322266\n",
    "    }\n",
    "]\n",
    "\n",
    "\n",
    "document_retrieval_evaluator = DocumentRetrievalEvaluator(\n",
    "    ground_truth_label_max=5,\n",
    "    ground_truth_label_min=0,\n",
    ")\n",
    "\n",
    "document_retrieval_evaluator(retrieval_ground_truth=retrieval_ground_truth,\n",
    "                             retrieved_documents=retrieved_documents)"
   ]
  },
  {
   "cell_type": "code",
   "execution_count": 10,
   "id": "671e38ae",
   "metadata": {},
   "outputs": [
    {
     "name": "stdout",
     "output_type": "stream",
     "text": [
      "2025-10-05 20:03:32 +0200   20004 execution.bulk     INFO     Finished 20 / 20 lines.\n",
      "2025-10-05 20:03:32 +0200   20004 execution.bulk     INFO     Average execution time for completed lines: 2.3 seconds. Estimated time for incomplete lines: 0.0 seconds.\n"
     ]
    },
    {
     "name": "stderr",
     "output_type": "stream",
     "text": [
      "[2025-10-05 20:03:32 - f:\\repo\\evaluation-intro\\.venv\\Lib\\site-packages\\azure\\ai\\evaluation\\_evaluate\\_batch_run\\_run_submitter_client.py:143 - WARNING] Aggregated metrics for evaluator is not a dictionary will not be logged as metrics\n"
     ]
    },
    {
     "name": "stdout",
     "output_type": "stream",
     "text": [
      "======= Run Summary =======\n",
      "\n",
      "Run name: \"qa_20251005_180246_389677\"\n",
      "Run status: \"Completed\"\n",
      "Start time: \"2025-10-05 18:02:46.389677+00:00\"\n",
      "Duration: \"0:00:45.992969\"\n",
      "\n",
      "======= Combined Run Summary (Per Evaluator) =======\n",
      "\n",
      "{\n",
      "    \"qa\": {\n",
      "        \"status\": \"Completed\",\n",
      "        \"duration\": \"0:00:45.992969\",\n",
      "        \"completed_lines\": 20,\n",
      "        \"failed_lines\": 0,\n",
      "        \"log_path\": null\n",
      "    }\n",
      "}\n",
      "\n",
      "====================================================\n",
      "\n",
      "Evaluation results saved to \"F:\\repo\\evaluation-intro\\eval.ouputs.json\".\n",
      "\n"
     ]
    }
   ],
   "source": [
    "# Run evaluation on a batch of data\n",
    "from azure.ai.evaluation import evaluate, QAEvaluator\n",
    "\n",
    "result = evaluate(\n",
    "    data = \"eval.jsonl\",\n",
    "    evaluators = {\n",
    "        \"qa\": QAEvaluator(\n",
    "            model_config=evaluator_model, \n",
    "            credential=credential)\n",
    "    },\n",
    "    evaluator_config={\n",
    "        \"qa\": {\n",
    "            \"column_mapping\": {\n",
    "                \"query\": \"${data.query}\",\n",
    "                \"context\": \"${data.context}\",\n",
    "                \"response\": \"${data.response}\"\n",
    "            } \n",
    "        }\n",
    "    },\n",
    "    output_path=\"./eval.ouputs.json\" \n",
    ")"
   ]
  },
  {
   "cell_type": "code",
   "execution_count": null,
   "id": "fd4388dc",
   "metadata": {},
   "outputs": [],
   "source": [
    "# Cleanup\n",
    "\n",
    "# delete all threads\n",
    "threads = agent_client.project_client.agents.threads.list()\n",
    "async for t in threads:\n",
    "    await agent_client.project_client.agents.threads.delete(thread_id=t.id)\n",
    "\n",
    "# delete all agents\n",
    "agents = agent_client.project_client.agents.list_agents()\n",
    "async for a in agents:\n",
    "    await agent_client.project_client.agents.delete_agent(agent_id=a.id)"
   ]
  }
 ],
 "metadata": {
  "kernelspec": {
   "display_name": "evaluation-intro (3.12.7)",
   "language": "python",
   "name": "python3"
  },
  "language_info": {
   "codemirror_mode": {
    "name": "ipython",
    "version": 3
   },
   "file_extension": ".py",
   "mimetype": "text/x-python",
   "name": "python",
   "nbconvert_exporter": "python",
   "pygments_lexer": "ipython3",
   "version": "3.12.7"
  }
 },
 "nbformat": 4,
 "nbformat_minor": 5
}
